{
  "nbformat": 4,
  "nbformat_minor": 0,
  "metadata": {
    "colab": {
      "provenance": []
    },
    "kernelspec": {
      "display_name": "Python 3",
      "name": "python3"
    },
    "language_info": {
      "name": "python"
    },
    "accelerator": "GPU"
  },
  "cells": [
    {
      "cell_type": "code",
      "metadata": {
        "colab": {
          "resources": {
            "http://localhost:8080/nbextensions/google.colab/files.js": {
              "data": "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",
              "ok": true,
              "headers": [
                [
                  "content-type",
                  "application/javascript"
                ]
              ],
              "status": 200,
              "status_text": ""
            }
          },
          "base_uri": "https://localhost:8080/",
          "height": 107
        },
        "id": "mhahD-JDS4iN",
        "outputId": "9a1a36fb-5cc8-498b-e3ba-b8d98fc0a243"
      },
      "source": [
        "from google.colab import files\n",
        "uploaded = files.upload()"
      ],
      "execution_count": null,
      "outputs": [
        {
          "output_type": "display_data",
          "data": {
            "text/html": [
              "\n",
              "     <input type=\"file\" id=\"files-cdf3505b-f761-474d-b42a-d55fd53559f2\" name=\"files[]\" multiple disabled\n",
              "        style=\"border:none\" />\n",
              "     <output id=\"result-cdf3505b-f761-474d-b42a-d55fd53559f2\">\n",
              "      Upload widget is only available when the cell has been executed in the\n",
              "      current browser session. Please rerun this cell to enable.\n",
              "      </output>\n",
              "      <script src=\"/nbextensions/google.colab/files.js\"></script> "
            ],
            "text/plain": [
              "<IPython.core.display.HTML object>"
            ]
          },
          "metadata": {}
        },
        {
          "output_type": "stream",
          "name": "stdout",
          "text": [
            "Saving company_data.csv to company_data.csv\n",
            "Saving influencers_data.csv to influencers_data.csv\n"
          ]
        }
      ]
    },
    {
      "cell_type": "code",
      "metadata": {
        "id": "jpMZ-VfRVHZb",
        "colab": {
          "base_uri": "https://localhost:8080/"
        },
        "outputId": "a5b191f4-5e3f-4d12-dfc2-8409c0ea7145"
      },
      "source": [
        "import io\n",
        "import pandas as pd\n",
        "dfc = pd.read_csv(io.BytesIO(uploaded['company_data.csv']))\n",
        "dfi = pd.read_csv(io.BytesIO(uploaded['influencers_data.csv']))"
      ],
      "execution_count": null,
      "outputs": [
        {
          "output_type": "stream",
          "name": "stderr",
          "text": [
            "/usr/local/lib/python3.7/dist-packages/IPython/core/interactiveshell.py:2718: DtypeWarning: Columns (18) have mixed types.Specify dtype option on import or set low_memory=False.\n",
            "  interactivity=interactivity, compiler=compiler, result=result)\n"
          ]
        }
      ]
    },
    {
      "cell_type": "code",
      "metadata": {
        "colab": {
          "base_uri": "https://localhost:8080/"
        },
        "id": "Fbta__7bVWZr",
        "outputId": "3b358453-0c00-4c97-cc4a-08ac96c6976e"
      },
      "source": [
        "print(dfc.shape)\n",
        "print(dfi.shape)"
      ],
      "execution_count": null,
      "outputs": [
        {
          "output_type": "stream",
          "name": "stdout",
          "text": [
            "(11654, 19)\n",
            "(34012, 19)\n"
          ]
        }
      ]
    },
    {
      "cell_type": "code",
      "metadata": {
        "id": "xlxngfehV_Sc"
      },
      "source": [
        "dfc[0:9]"
      ],
      "execution_count": null,
      "outputs": []
    },
    {
      "cell_type": "code",
      "metadata": {
        "id": "GPj3fQMSh0G2"
      },
      "source": [
        "dfi[0:9]"
      ],
      "execution_count": null,
      "outputs": []
    },
    {
      "cell_type": "code",
      "metadata": {
        "colab": {
          "base_uri": "https://localhost:8080/"
        },
        "id": "gVBu6LuWXE-O",
        "outputId": "92b1f8cb-5f81-48e1-8952-8cd7f43d906b"
      },
      "source": [
        "print(dfc.isnull().values.sum(axis=0))\n",
        "print(dfi.isnull().values.sum(axis=0))"
      ],
      "execution_count": null,
      "outputs": [
        {
          "output_type": "stream",
          "name": "stdout",
          "text": [
            "[    0     0    30    30    30     0     0     0   283     0   640     0\n",
            "     0     0     0     0     0 11654 11607]\n",
            "[    0     0     0  2272    42  8299     0     1  2016     0  7233     0\n",
            "     0     0     0     0     0 34012 33926]\n"
          ]
        }
      ]
    },
    {
      "cell_type": "code",
      "metadata": {
        "id": "4FWVi_Z5h_69",
        "colab": {
          "base_uri": "https://localhost:8080/",
          "height": 994
        },
        "outputId": "1694768f-f81b-4320-e9ab-54b668706792"
      },
      "source": [
        "#removes unnecessary columns from dataset\n",
        "dfc=dfc.drop([\"location\", \"media_type\", \"views\", \"votes\"], axis=1)\n",
        "dfc[0:9]"
      ],
      "execution_count": null,
      "outputs": [
        {
          "output_type": "execute_result",
          "data": {
            "text/html": [
              "<div>\n",
              "<style scoped>\n",
              "    .dataframe tbody tr th:only-of-type {\n",
              "        vertical-align: middle;\n",
              "    }\n",
              "\n",
              "    .dataframe tbody tr th {\n",
              "        vertical-align: top;\n",
              "    }\n",
              "\n",
              "    .dataframe thead th {\n",
              "        text-align: right;\n",
              "    }\n",
              "</style>\n",
              "<table border=\"1\" class=\"dataframe\">\n",
              "  <thead>\n",
              "    <tr style=\"text-align: right;\">\n",
              "      <th></th>\n",
              "      <th>Unnamed: 0</th>\n",
              "      <th>name</th>\n",
              "      <th>headline</th>\n",
              "      <th>followers</th>\n",
              "      <th>connections</th>\n",
              "      <th>about</th>\n",
              "      <th>time_spent</th>\n",
              "      <th>content</th>\n",
              "      <th>content_links</th>\n",
              "      <th>media_urls</th>\n",
              "      <th>num_hashtags</th>\n",
              "      <th>hashtag_followers</th>\n",
              "      <th>hashtags</th>\n",
              "      <th>reactions</th>\n",
              "      <th>comments</th>\n",
              "    </tr>\n",
              "  </thead>\n",
              "  <tbody>\n",
              "    <tr>\n",
              "      <th>0</th>\n",
              "      <td>0</td>\n",
              "      <td>Dell Technologies</td>\n",
              "      <td>Information Technology &amp; Services</td>\n",
              "      <td>3,597,845 followers</td>\n",
              "      <td>194,140</td>\n",
              "      <td>Dell Technologies is a unique family of busine...</td>\n",
              "      <td>1 week ago</td>\n",
              "      <td>#ICYMI  check out the keynote replay from the ...</td>\n",
              "      <td>[['https://www.linkedin.com/feed/hashtag/?keyw...</td>\n",
              "      <td>['blob:https://www.linkedin.com/4680e2eb-c683-...</td>\n",
              "      <td>2</td>\n",
              "      <td>0</td>\n",
              "      <td>[['https://www.linkedin.com/feed/hashtag/?keyw...</td>\n",
              "      <td>1217</td>\n",
              "      <td>577</td>\n",
              "    </tr>\n",
              "    <tr>\n",
              "      <th>1</th>\n",
              "      <td>1</td>\n",
              "      <td>Dell Technologies</td>\n",
              "      <td>Information Technology &amp; Services</td>\n",
              "      <td>3,597,845 followers</td>\n",
              "      <td>194,140</td>\n",
              "      <td>Dell Technologies is a unique family of busine...</td>\n",
              "      <td>20 hours ago</td>\n",
              "      <td>“We need to move faster to address the digital...</td>\n",
              "      <td>[['https://www.linkedin.com/in/ACoAAABpTIwBhTx...</td>\n",
              "      <td>['https://media-exp1.licdn.com/dms/image/C4D22...</td>\n",
              "      <td>1</td>\n",
              "      <td>0</td>\n",
              "      <td>[['https://www.linkedin.com/feed/hashtag/?keyw...</td>\n",
              "      <td>76</td>\n",
              "      <td>2</td>\n",
              "    </tr>\n",
              "    <tr>\n",
              "      <th>2</th>\n",
              "      <td>2</td>\n",
              "      <td>Dell Technologies</td>\n",
              "      <td>Information Technology &amp; Services</td>\n",
              "      <td>3,597,845 followers</td>\n",
              "      <td>194,140</td>\n",
              "      <td>Dell Technologies is a unique family of busine...</td>\n",
              "      <td>20 hours ago</td>\n",
              "      <td>Meet our 2021 APJ Sales Graduates!  Last week,...</td>\n",
              "      <td>[['https://www.linkedin.com/feed/hashtag/?keyw...</td>\n",
              "      <td>['https://media-exp1.licdn.com/dms/image/C4D22...</td>\n",
              "      <td>2</td>\n",
              "      <td>0</td>\n",
              "      <td>[['https://www.linkedin.com/feed/hashtag/?keyw...</td>\n",
              "      <td>35</td>\n",
              "      <td>0</td>\n",
              "    </tr>\n",
              "    <tr>\n",
              "      <th>3</th>\n",
              "      <td>3</td>\n",
              "      <td>Dell Technologies</td>\n",
              "      <td>Information Technology &amp; Services</td>\n",
              "      <td>3,597,845 followers</td>\n",
              "      <td>194,140</td>\n",
              "      <td>Dell Technologies is a unique family of busine...</td>\n",
              "      <td>22 hours ago</td>\n",
              "      <td>From our family to yours, we wish you four sea...</td>\n",
              "      <td>[]</td>\n",
              "      <td>['https://dms.licdn.com/playlist/C5605AQGCmtEZ...</td>\n",
              "      <td>0</td>\n",
              "      <td>0</td>\n",
              "      <td>[]</td>\n",
              "      <td>195</td>\n",
              "      <td>2</td>\n",
              "    </tr>\n",
              "    <tr>\n",
              "      <th>4</th>\n",
              "      <td>4</td>\n",
              "      <td>Dell Technologies</td>\n",
              "      <td>Information Technology &amp; Services</td>\n",
              "      <td>3,597,845 followers</td>\n",
              "      <td>194,140</td>\n",
              "      <td>Dell Technologies is a unique family of busine...</td>\n",
              "      <td>2 days ago</td>\n",
              "      <td>#5G  will revolutionize food production — soil...</td>\n",
              "      <td>[['https://www.linkedin.com/feed/hashtag/?keyw...</td>\n",
              "      <td>[]</td>\n",
              "      <td>3</td>\n",
              "      <td>0</td>\n",
              "      <td>[['https://www.linkedin.com/feed/hashtag/?keyw...</td>\n",
              "      <td>250</td>\n",
              "      <td>6</td>\n",
              "    </tr>\n",
              "    <tr>\n",
              "      <th>5</th>\n",
              "      <td>5</td>\n",
              "      <td>Dell Technologies</td>\n",
              "      <td>Information Technology &amp; Services</td>\n",
              "      <td>3,597,845 followers</td>\n",
              "      <td>194,140</td>\n",
              "      <td>Dell Technologies is a unique family of busine...</td>\n",
              "      <td>2 days ago</td>\n",
              "      <td>Rapid change and unexpected circumstances are ...</td>\n",
              "      <td>[['https://dell.to/3a1bM7x', 'https://dell.to/...</td>\n",
              "      <td>['https://media-exp1.licdn.com/dms/image/C4D22...</td>\n",
              "      <td>0</td>\n",
              "      <td>0</td>\n",
              "      <td>[]</td>\n",
              "      <td>144</td>\n",
              "      <td>0</td>\n",
              "    </tr>\n",
              "    <tr>\n",
              "      <th>6</th>\n",
              "      <td>6</td>\n",
              "      <td>Dell Technologies</td>\n",
              "      <td>Information Technology &amp; Services</td>\n",
              "      <td>3,597,845 followers</td>\n",
              "      <td>194,140</td>\n",
              "      <td>Dell Technologies is a unique family of busine...</td>\n",
              "      <td>4 days ago</td>\n",
              "      <td>According to Gartner's 2020 CEO survey most bu...</td>\n",
              "      <td>[['https://dell.to/3qeNkps', 'https://dell.to/...</td>\n",
              "      <td>['https://media-exp1.licdn.com/dms/image/C4D22...</td>\n",
              "      <td>1</td>\n",
              "      <td>0</td>\n",
              "      <td>[['https://www.linkedin.com/feed/hashtag/?keyw...</td>\n",
              "      <td>128</td>\n",
              "      <td>0</td>\n",
              "    </tr>\n",
              "    <tr>\n",
              "      <th>7</th>\n",
              "      <td>7</td>\n",
              "      <td>Dell Technologies</td>\n",
              "      <td>Information Technology &amp; Services</td>\n",
              "      <td>3,597,845 followers</td>\n",
              "      <td>194,140</td>\n",
              "      <td>Dell Technologies is a unique family of busine...</td>\n",
              "      <td>5 days ago</td>\n",
              "      <td>A true All-in-One experience to empower your p...</td>\n",
              "      <td>[['https://www.linkedin.com/feed/hashtag/?keyw...</td>\n",
              "      <td>['https://media-exp1.licdn.com/dms/image/C4D22...</td>\n",
              "      <td>1</td>\n",
              "      <td>0</td>\n",
              "      <td>[['https://www.linkedin.com/feed/hashtag/?keyw...</td>\n",
              "      <td>410</td>\n",
              "      <td>5</td>\n",
              "    </tr>\n",
              "    <tr>\n",
              "      <th>8</th>\n",
              "      <td>8</td>\n",
              "      <td>Dell Technologies</td>\n",
              "      <td>Information Technology &amp; Services</td>\n",
              "      <td>3,597,845 followers</td>\n",
              "      <td>194,140</td>\n",
              "      <td>Dell Technologies is a unique family of busine...</td>\n",
              "      <td>1 day ago</td>\n",
              "      <td>Imagine the future of work as better connected...</td>\n",
              "      <td>[['https://www.linkedin.com/feed/hashtag/?keyw...</td>\n",
              "      <td>['https://dms.licdn.com/playlist/C4D05AQHjzm4O...</td>\n",
              "      <td>1</td>\n",
              "      <td>0</td>\n",
              "      <td>[['https://www.linkedin.com/feed/hashtag/?keyw...</td>\n",
              "      <td>167</td>\n",
              "      <td>3</td>\n",
              "    </tr>\n",
              "  </tbody>\n",
              "</table>\n",
              "</div>"
            ],
            "text/plain": [
              "   Unnamed: 0               name  ... reactions comments\n",
              "0           0  Dell Technologies  ...      1217      577\n",
              "1           1  Dell Technologies  ...        76        2\n",
              "2           2  Dell Technologies  ...        35        0\n",
              "3           3  Dell Technologies  ...       195        2\n",
              "4           4  Dell Technologies  ...       250        6\n",
              "5           5  Dell Technologies  ...       144        0\n",
              "6           6  Dell Technologies  ...       128        0\n",
              "7           7  Dell Technologies  ...       410        5\n",
              "8           8  Dell Technologies  ...       167        3\n",
              "\n",
              "[9 rows x 15 columns]"
            ]
          },
          "metadata": {},
          "execution_count": 3
        }
      ]
    },
    {
      "cell_type": "code",
      "metadata": {
        "id": "aD4AJE9ujxF-",
        "colab": {
          "base_uri": "https://localhost:8080/",
          "height": 1000
        },
        "outputId": "0a445c5b-8168-4aad-ee14-2db5317473e2"
      },
      "source": [
        "#removes unnecessary columns from dataset\n",
        "dfi=dfi.drop([\"location\", \"media_type\", \"views\", \"votes\"], axis=1)\n",
        "dfi[0:9]"
      ],
      "execution_count": null,
      "outputs": [
        {
          "output_type": "execute_result",
          "data": {
            "text/html": [
              "<div>\n",
              "<style scoped>\n",
              "    .dataframe tbody tr th:only-of-type {\n",
              "        vertical-align: middle;\n",
              "    }\n",
              "\n",
              "    .dataframe tbody tr th {\n",
              "        vertical-align: top;\n",
              "    }\n",
              "\n",
              "    .dataframe thead th {\n",
              "        text-align: right;\n",
              "    }\n",
              "</style>\n",
              "<table border=\"1\" class=\"dataframe\">\n",
              "  <thead>\n",
              "    <tr style=\"text-align: right;\">\n",
              "      <th></th>\n",
              "      <th>Unnamed: 0</th>\n",
              "      <th>name</th>\n",
              "      <th>headline</th>\n",
              "      <th>followers</th>\n",
              "      <th>connections</th>\n",
              "      <th>about</th>\n",
              "      <th>time_spent</th>\n",
              "      <th>content</th>\n",
              "      <th>content_links</th>\n",
              "      <th>media_url</th>\n",
              "      <th>num_hashtags</th>\n",
              "      <th>hashtag_followers</th>\n",
              "      <th>hashtags</th>\n",
              "      <th>reactions</th>\n",
              "      <th>comments</th>\n",
              "    </tr>\n",
              "  </thead>\n",
              "  <tbody>\n",
              "    <tr>\n",
              "      <th>0</th>\n",
              "      <td>0</td>\n",
              "      <td>Nicholas Wyman</td>\n",
              "      <td>CEO IWSI Group</td>\n",
              "      <td>6484.0</td>\n",
              "      <td>500+</td>\n",
              "      <td>Nicholas Wyman for the past 25 years has shone...</td>\n",
              "      <td>1 day ago</td>\n",
              "      <td>Robert Lerman  writes that achieving a healthy...</td>\n",
              "      <td>[['https://www.linkedin.com/in/ACoAAACy1HkBviR...</td>\n",
              "      <td>['https://www.urban.org/urban-wire/its-time-mo...</td>\n",
              "      <td>4</td>\n",
              "      <td>0</td>\n",
              "      <td>[['#workbasedlearning', 'https://www.linkedin....</td>\n",
              "      <td>12</td>\n",
              "      <td>1</td>\n",
              "    </tr>\n",
              "    <tr>\n",
              "      <th>1</th>\n",
              "      <td>1</td>\n",
              "      <td>Nicholas Wyman</td>\n",
              "      <td>CEO IWSI Group</td>\n",
              "      <td>6484.0</td>\n",
              "      <td>500+</td>\n",
              "      <td>Nicholas Wyman for the past 25 years has shone...</td>\n",
              "      <td>1 week ago</td>\n",
              "      <td>National disability advocate  Sara Hart Weir, ...</td>\n",
              "      <td>[['https://www.linkedin.com/in/ACoAAAHsfJgBb7_...</td>\n",
              "      <td>[]</td>\n",
              "      <td>0</td>\n",
              "      <td>0</td>\n",
              "      <td>[]</td>\n",
              "      <td>11</td>\n",
              "      <td>0</td>\n",
              "    </tr>\n",
              "    <tr>\n",
              "      <th>2</th>\n",
              "      <td>2</td>\n",
              "      <td>Nicholas Wyman</td>\n",
              "      <td>CEO IWSI Group</td>\n",
              "      <td>6484.0</td>\n",
              "      <td>500+</td>\n",
              "      <td>Nicholas Wyman for the past 25 years has shone...</td>\n",
              "      <td>2 months ago</td>\n",
              "      <td>NaN</td>\n",
              "      <td>[]</td>\n",
              "      <td>[]</td>\n",
              "      <td>0</td>\n",
              "      <td>0</td>\n",
              "      <td>[]</td>\n",
              "      <td>15</td>\n",
              "      <td>0</td>\n",
              "    </tr>\n",
              "    <tr>\n",
              "      <th>3</th>\n",
              "      <td>3</td>\n",
              "      <td>Nicholas Wyman</td>\n",
              "      <td>CEO IWSI Group</td>\n",
              "      <td>6484.0</td>\n",
              "      <td>500+</td>\n",
              "      <td>Nicholas Wyman for the past 25 years has shone...</td>\n",
              "      <td>2 months ago</td>\n",
              "      <td>Exploring in this months Talent Management &amp; H...</td>\n",
              "      <td>[['https://www.linkedin.com/in/ACoAAAADlGIBLfn...</td>\n",
              "      <td>['https://www.tlnt.com/apprenticeships-that-br...</td>\n",
              "      <td>4</td>\n",
              "      <td>0</td>\n",
              "      <td>[['#careerplanning', 'https://www.linkedin.com...</td>\n",
              "      <td>44</td>\n",
              "      <td>0</td>\n",
              "    </tr>\n",
              "    <tr>\n",
              "      <th>4</th>\n",
              "      <td>4</td>\n",
              "      <td>Nicholas Wyman</td>\n",
              "      <td>CEO IWSI Group</td>\n",
              "      <td>6484.0</td>\n",
              "      <td>500+</td>\n",
              "      <td>Nicholas Wyman for the past 25 years has shone...</td>\n",
              "      <td>2 months ago</td>\n",
              "      <td>I count myself fortunate to have spent time wi...</td>\n",
              "      <td>[['https://www.linkedin.com/in/ACoAABhNxDUB9IX...</td>\n",
              "      <td>['https://gritdaily.com/the-legacy-of-verified...</td>\n",
              "      <td>3</td>\n",
              "      <td>0</td>\n",
              "      <td>[['#verifiedresumes', 'https://www.linkedin.co...</td>\n",
              "      <td>22</td>\n",
              "      <td>2</td>\n",
              "    </tr>\n",
              "    <tr>\n",
              "      <th>5</th>\n",
              "      <td>5</td>\n",
              "      <td>Nicholas Wyman</td>\n",
              "      <td>CEO IWSI Group</td>\n",
              "      <td>6484.0</td>\n",
              "      <td>500+</td>\n",
              "      <td>Nicholas Wyman for the past 25 years has shone...</td>\n",
              "      <td>2 months ago</td>\n",
              "      <td>Online job platforms are a different way of wo...</td>\n",
              "      <td>[['https://www.linkedin.com/feed/hashtag/?keyw...</td>\n",
              "      <td>['https://www.forbes.com/sites/nicholaswyman/2...</td>\n",
              "      <td>5</td>\n",
              "      <td>0</td>\n",
              "      <td>[['#careers', 'https://www.linkedin.com/feed/h...</td>\n",
              "      <td>21</td>\n",
              "      <td>1</td>\n",
              "    </tr>\n",
              "    <tr>\n",
              "      <th>6</th>\n",
              "      <td>6</td>\n",
              "      <td>Nicholas Wyman</td>\n",
              "      <td>CEO IWSI Group</td>\n",
              "      <td>6484.0</td>\n",
              "      <td>500+</td>\n",
              "      <td>Nicholas Wyman for the past 25 years has shone...</td>\n",
              "      <td>2 months ago</td>\n",
              "      <td>Between the burgeoning unemployment rates and ...</td>\n",
              "      <td>[['https://www.linkedin.com/feed/hashtag/?keyw...</td>\n",
              "      <td>['https://www.theladders.com/career-advice/5-t...</td>\n",
              "      <td>3</td>\n",
              "      <td>0</td>\n",
              "      <td>[['#hiring', 'https://www.linkedin.com/feed/ha...</td>\n",
              "      <td>16</td>\n",
              "      <td>0</td>\n",
              "    </tr>\n",
              "    <tr>\n",
              "      <th>7</th>\n",
              "      <td>7</td>\n",
              "      <td>Nicholas Wyman</td>\n",
              "      <td>CEO IWSI Group</td>\n",
              "      <td>6484.0</td>\n",
              "      <td>500+</td>\n",
              "      <td>Nicholas Wyman for the past 25 years has shone...</td>\n",
              "      <td>3 months ago</td>\n",
              "      <td>This year's National Apprenticeship Week comes...</td>\n",
              "      <td>[['https://www.linkedin.com/in/ACoAABYKFXUBliG...</td>\n",
              "      <td>['https://www.hrdive.com/news/how-are-us-appre...</td>\n",
              "      <td>3</td>\n",
              "      <td>0</td>\n",
              "      <td>[['#careers', 'https://www.linkedin.com/feed/h...</td>\n",
              "      <td>40</td>\n",
              "      <td>1</td>\n",
              "    </tr>\n",
              "    <tr>\n",
              "      <th>8</th>\n",
              "      <td>8</td>\n",
              "      <td>Nicholas Wyman</td>\n",
              "      <td>CEO IWSI Group</td>\n",
              "      <td>6484.0</td>\n",
              "      <td>500+</td>\n",
              "      <td>Nicholas Wyman for the past 25 years has shone...</td>\n",
              "      <td>3 months ago</td>\n",
              "      <td>#coaching   #learninganddevelopment   #workfor...</td>\n",
              "      <td>[['https://www.linkedin.com/feed/hashtag/?keyw...</td>\n",
              "      <td>['https://www.linkedin.com/pulse/learning-pods...</td>\n",
              "      <td>3</td>\n",
              "      <td>0</td>\n",
              "      <td>[['#coaching', 'https://www.linkedin.com/feed/...</td>\n",
              "      <td>29</td>\n",
              "      <td>0</td>\n",
              "    </tr>\n",
              "  </tbody>\n",
              "</table>\n",
              "</div>"
            ],
            "text/plain": [
              "   Unnamed: 0            name  ... reactions  comments\n",
              "0           0  Nicholas Wyman  ...        12         1\n",
              "1           1  Nicholas Wyman  ...        11         0\n",
              "2           2  Nicholas Wyman  ...        15         0\n",
              "3           3  Nicholas Wyman  ...        44         0\n",
              "4           4  Nicholas Wyman  ...        22         2\n",
              "5           5  Nicholas Wyman  ...        21         1\n",
              "6           6  Nicholas Wyman  ...        16         0\n",
              "7           7  Nicholas Wyman  ...        40         1\n",
              "8           8  Nicholas Wyman  ...        29         0\n",
              "\n",
              "[9 rows x 15 columns]"
            ]
          },
          "metadata": {},
          "execution_count": 4
        }
      ]
    },
    {
      "cell_type": "code",
      "metadata": {
        "colab": {
          "base_uri": "https://localhost:8080/"
        },
        "id": "sFZLfKUEj67n",
        "outputId": "3e716d29-a71e-4a89-ae5d-2924db1af543"
      },
      "source": [
        "dfc=dfc.dropna()\n",
        "dfi=dfi.dropna()\n",
        "print(dfc.shape)\n",
        "print(dfi.shape)"
      ],
      "execution_count": null,
      "outputs": [
        {
          "output_type": "stream",
          "name": "stdout",
          "text": [
            "(11351, 15)\n",
            "(23951, 15)\n"
          ]
        }
      ]
    },
    {
      "cell_type": "code",
      "metadata": {
        "id": "hI4-13PrPi4G"
      },
      "source": [
        "#Shows data type of each column\n",
        "print(dfc.dtypes)\n",
        "print(dfi.dtypes)"
      ],
      "execution_count": null,
      "outputs": []
    },
    {
      "cell_type": "code",
      "metadata": {
        "id": "obaMdHgEPqKu"
      },
      "source": [
        "#Removes commas from numerical values\n",
        "dfc['connections'] = dfc['connections'].str.replace(',','')\n",
        "dfi['connections'] = dfi['connections'].str.replace('+','')\n",
        "dfc['followers'] = dfc['followers'].str.replace(' followers','')\n",
        "dfc['followers'] = dfc['followers'].str.replace(',','')"
      ],
      "execution_count": null,
      "outputs": []
    },
    {
      "cell_type": "code",
      "metadata": {
        "id": "5amJaAGoP1gw"
      },
      "source": [
        "#changes quantitative data from string to float\n",
        "dfc['num_hashtags'] = dfc['num_hashtags'].astype(float)\n",
        "dfi['num_hashtags'] = dfi['num_hashtags'].astype(float)\n",
        "dfc['reactions'] = dfc['reactions'].astype(float)\n",
        "dfi['reactions'] = dfi['reactions'].astype(float)\n",
        "dfc['comments'] = dfc['comments'].astype(float)\n",
        "dfi['comments'] = dfi['comments'].astype(float)\n",
        "dfc['connections'] = dfc['connections'].astype(float)\n",
        "dfi['connections'] = dfi['connections'].astype(float)\n",
        "dfc['followers'] = dfc['followers'].astype(float)"
      ],
      "execution_count": null,
      "outputs": []
    },
    {
      "cell_type": "code",
      "metadata": {
        "id": "Nn6oQzzB_fXu"
      },
      "source": [
        "#Creates y variable weighting a comment as 2x as important as a reaction\n",
        "dfc['popularity']=(2*dfc['comments']+dfc['reactions'])/3"
      ],
      "execution_count": null,
      "outputs": []
    },
    {
      "cell_type": "code",
      "metadata": {
        "id": "W1Bj8EFaXgF3"
      },
      "source": [
        "#drops additional unnecessary columns from company data set\n",
        "dfc = dfc.drop(columns=['about','content','content_links','media_urls','hashtags'])"
      ],
      "execution_count": null,
      "outputs": []
    },
    {
      "cell_type": "code",
      "metadata": {
        "colab": {
          "base_uri": "https://localhost:8080/"
        },
        "id": "-ikmjeZ7ds9Y",
        "outputId": "c2213a95-e1fb-4a60-a337-9bb70b3b683f"
      },
      "source": [
        "print(dfc.shape)"
      ],
      "execution_count": null,
      "outputs": [
        {
          "output_type": "stream",
          "name": "stdout",
          "text": [
            "(11351, 11)\n"
          ]
        }
      ]
    },
    {
      "cell_type": "code",
      "metadata": {
        "id": "v8rzuZT_cjOY"
      },
      "source": [
        "#removes rows of linkedin posts that have been up less that a day\n",
        "dfc = dfc[~dfc[\"time_spent\"].str.contains('hour')]\n",
        "dfc = dfc[~dfc[\"time_spent\"].str.contains('hours')]\n",
        "dfc = dfc[~dfc[\"time_spent\"].str.contains('minutes')]"
      ],
      "execution_count": null,
      "outputs": []
    },
    {
      "cell_type": "code",
      "metadata": {
        "colab": {
          "base_uri": "https://localhost:8080/"
        },
        "id": "GTLuaODSduFn",
        "outputId": "dd4f425f-ff3c-449a-89e2-0041aeea2e29"
      },
      "source": [
        "print(dfc.shape)"
      ],
      "execution_count": null,
      "outputs": [
        {
          "output_type": "stream",
          "name": "stdout",
          "text": [
            "(11258, 11)\n"
          ]
        }
      ]
    },
    {
      "cell_type": "code",
      "metadata": {
        "id": "SyM4uZ0rP9wc"
      },
      "source": [
        "dfc[0:9]"
      ],
      "execution_count": null,
      "outputs": []
    },
    {
      "cell_type": "code",
      "metadata": {
        "id": "FYhqxpvDP95B"
      },
      "source": [
        "dfi[0:9]"
      ],
      "execution_count": null,
      "outputs": []
    },
    {
      "cell_type": "code",
      "metadata": {
        "id": "LTImMgYMZoYH"
      },
      "source": [
        "import sklearn\n",
        "from sklearn.tree import DecisionTreeRegressor\n",
        "from sklearn.metrics import mean_squared_error\n",
        "from sklearn.model_selection import train_test_split"
      ],
      "execution_count": null,
      "outputs": []
    },
    {
      "cell_type": "code",
      "metadata": {
        "id": "Lwd4tXQ5Zy1-"
      },
      "source": [
        "#Create independent variables and dependent variable\n",
        "dfc_x = dfc[['followers','connections','num_hashtags']]\n",
        "dfc_y = dfc['popularity']"
      ],
      "execution_count": null,
      "outputs": []
    },
    {
      "cell_type": "code",
      "metadata": {
        "id": "5xZfIjvVZy5f"
      },
      "source": [
        "#Split the data set into training and testing data (20% testing)\n",
        "x_train,x_test,y_train,y_test=train_test_split(dfc_x,dfc_y,test_size=0.2)"
      ],
      "execution_count": null,
      "outputs": []
    },
    {
      "cell_type": "code",
      "metadata": {
        "id": "MDp2TfgxZy-F"
      },
      "source": [
        "dtr=DecisionTreeRegressor()"
      ],
      "execution_count": null,
      "outputs": []
    },
    {
      "cell_type": "code",
      "metadata": {
        "colab": {
          "base_uri": "https://localhost:8080/"
        },
        "id": "PqFEy-1qZzFx",
        "outputId": "3d7bc398-f3f0-4a02-d698-e273e414c786"
      },
      "source": [
        "dtr.fit(x_train, y_train)"
      ],
      "execution_count": null,
      "outputs": [
        {
          "output_type": "execute_result",
          "data": {
            "text/plain": [
              "DecisionTreeRegressor()"
            ]
          },
          "metadata": {},
          "execution_count": 24
        }
      ]
    },
    {
      "cell_type": "code",
      "metadata": {
        "colab": {
          "base_uri": "https://localhost:8080/"
        },
        "id": "zwzpKSbAZzSP",
        "outputId": "fdd74f24-f543-4b65-bc1d-b334a52d0369"
      },
      "source": [
        "score = dtr.score(x_train, y_train)\n",
        "print(\"R-squared:\", score)"
      ],
      "execution_count": null,
      "outputs": [
        {
          "output_type": "stream",
          "name": "stdout",
          "text": [
            "R-squared: 0.22577476470655544\n"
          ]
        }
      ]
    },
    {
      "cell_type": "code",
      "metadata": {
        "colab": {
          "base_uri": "https://localhost:8080/"
        },
        "id": "hnVokts2aBRO",
        "outputId": "016e0b15-b066-46c5-c4da-6438e8d2d79c"
      },
      "source": [
        "y_pred = dtr.predict(x_test)\n",
        "mse = mean_squared_error(y_test, y_pred)\n",
        "print(\"MSE: \", mse)"
      ],
      "execution_count": null,
      "outputs": [
        {
          "output_type": "stream",
          "name": "stdout",
          "text": [
            "MSE:  203874.616921866\n"
          ]
        }
      ]
    },
    {
      "cell_type": "code",
      "metadata": {
        "colab": {
          "base_uri": "https://localhost:8080/"
        },
        "id": "oYh8lC1k9bmk",
        "outputId": "a28e305b-46aa-468b-c01a-09a8b842cd6c"
      },
      "source": [
        "from sklearn.ensemble import RandomForestRegressor\n",
        "model = RandomForestRegressor()\n",
        "\n",
        "# fit the model with the training data\n",
        "model.fit(x_train,y_train)\n",
        "\n",
        "# number of trees used\n",
        "print('Number of Trees used : ', model.n_estimators)\n"
      ],
      "execution_count": null,
      "outputs": [
        {
          "output_type": "stream",
          "name": "stdout",
          "text": [
            "Number of Trees used :  100\n"
          ]
        }
      ]
    },
    {
      "cell_type": "code",
      "metadata": {
        "colab": {
          "base_uri": "https://localhost:8080/"
        },
        "id": "OQhlWFFC95Q4",
        "outputId": "e277e64e-5605-4782-f90c-04e5afdff413"
      },
      "source": [
        "rf_pred = model.predict(x_test)\n",
        "mserf = mean_squared_error(y_test, rf_pred)\n",
        "print(\"MSE: \", mserf)"
      ],
      "execution_count": null,
      "outputs": [
        {
          "output_type": "stream",
          "name": "stdout",
          "text": [
            "MSE:  205996.68259815138\n"
          ]
        }
      ]
    },
    {
      "cell_type": "code",
      "metadata": {
        "colab": {
          "base_uri": "https://localhost:8080/"
        },
        "id": "_htTzno7A_F2",
        "outputId": "94b10b58-d856-4301-c2c0-dad330034bc9"
      },
      "source": [
        "from sklearn.linear_model import LinearRegression\n",
        "lm = LinearRegression()\n",
        "\n",
        "# fit the model with the training data\n",
        "lm.fit(x_train,y_train)\n",
        "predict_test = lm.predict(x_test)\n",
        "\n",
        "\n",
        "mse_test = mean_squared_error(y_test,predict_test)\n",
        "scorelm = lm.score(x_train, y_train)\n",
        "print(mse_test)\n",
        "print(scorelm)"
      ],
      "execution_count": null,
      "outputs": [
        {
          "output_type": "stream",
          "name": "stdout",
          "text": [
            "103468.70309077845\n",
            "0.012472456696357881\n"
          ]
        }
      ]
    },
    {
      "cell_type": "code",
      "metadata": {
        "colab": {
          "base_uri": "https://localhost:8080/"
        },
        "id": "_51okpiNB_ih",
        "outputId": "6b316c37-ec72-48a0-fb6c-7fb27932b099"
      },
      "source": [
        "print(lm.coef_)\n",
        "print(lm.intercept_)"
      ],
      "execution_count": null,
      "outputs": [
        {
          "output_type": "stream",
          "name": "stdout",
          "text": [
            "[ 1.91244052e-05 -2.54105112e-04  1.08777679e+01]\n",
            "150.09667769081875\n"
          ]
        }
      ]
    }
  ]
}